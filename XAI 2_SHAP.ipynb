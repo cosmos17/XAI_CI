{
 "cells": [
  {
   "cell_type": "markdown",
   "id": "06ae17a9",
   "metadata": {},
   "source": [
    "||CRIM|ZN|INDUS|CHAS|NOX|RM|AGE|DIS|RAD|TAX|PTRATIO|B|LSTAT|MEDV|\n",
    "|-|-|-|-|-|-|-|-|-|-|-|-|-|-|-|\n",
    "|0|0.00632|18.0|2.31|0|0.538|6.575|65.2|4.0900|1|296.0|15.3|396.9|4.98|24.0|\n",
    "|1|0.02731|0.0|7.07|0|0.469|6.421|78.9|4.9671|2|242.0|17.8|396.9|9.14|21.6|"
   ]
  },
  {
   "cell_type": "code",
   "execution_count": 1,
   "id": "25b654ec",
   "metadata": {},
   "outputs": [
    {
     "data": {
      "text/plain": [
       "'-|-|-|-|-|-|-|-|-|-|-|-|-|-|'"
      ]
     },
     "execution_count": 1,
     "metadata": {},
     "output_type": "execute_result"
    }
   ],
   "source": [
    "\"-|\" * 14"
   ]
  },
  {
   "cell_type": "markdown",
   "id": "3cfa4c15",
   "metadata": {},
   "source": []
  }
 ],
 "metadata": {
  "kernelspec": {
   "display_name": "base",
   "language": "python",
   "name": "python3"
  },
  "language_info": {
   "codemirror_mode": {
    "name": "ipython",
    "version": 3
   },
   "file_extension": ".py",
   "mimetype": "text/x-python",
   "name": "python",
   "nbconvert_exporter": "python",
   "pygments_lexer": "ipython3",
   "version": "3.9.21"
  }
 },
 "nbformat": 4,
 "nbformat_minor": 5
}
