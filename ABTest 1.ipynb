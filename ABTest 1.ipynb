{
 "cells": [
  {
   "cell_type": "markdown",
   "id": "bdd9f3e9",
   "metadata": {},
   "source": [
    "# 인과추론\n",
    "\n",
    "## 인과추론(Causal Inference)이란?\n",
    "* 어떤 사건이나 변수 간의 인과 관계를 이해하고 추정하는 과정"
   ]
  },
  {
   "cell_type": "markdown",
   "id": "3f5be9ef",
   "metadata": {},
   "source": [
    "## A/B 테스트 연습"
   ]
  },
  {
   "cell_type": "code",
   "execution_count": null,
   "id": "76a5ff7b",
   "metadata": {},
   "outputs": [],
   "source": []
  },
  {
   "cell_type": "code",
   "execution_count": null,
   "id": "0dbcfd73",
   "metadata": {},
   "outputs": [],
   "source": []
  }
 ],
 "metadata": {
  "kernelspec": {
   "display_name": "base",
   "language": "python",
   "name": "python3"
  },
  "language_info": {
   "codemirror_mode": {
    "name": "ipython",
    "version": 3
   },
   "file_extension": ".py",
   "mimetype": "text/x-python",
   "name": "python",
   "nbconvert_exporter": "python",
   "pygments_lexer": "ipython3",
   "version": "3.9.21"
  }
 },
 "nbformat": 4,
 "nbformat_minor": 5
}
